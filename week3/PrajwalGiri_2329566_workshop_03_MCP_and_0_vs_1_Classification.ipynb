{
  "nbformat": 4,
  "nbformat_minor": 0,
  "metadata": {
    "colab": {
      "provenance": []
    },
    "kernelspec": {
      "name": "python3",
      "display_name": "Python 3"
    },
    "language_info": {
      "name": "python"
    }
  },
  "cells": [
    {
      "cell_type": "markdown",
      "source": [
        "# Implementation of MCP Neuron for AND and OR Function."
      ],
      "metadata": {
        "id": "IY-_Zy_b71lD"
      }
    },
    {
      "cell_type": "code",
      "source": [
        "def MCP_Neurons_AND(X1, X2, T):\n",
        "  \"\"\"\n",
        "  This functions implements basic AND operations with MCP Neuron for two inputs.\n",
        "  Arguments:\n",
        "  Inputs:\n",
        "  X1 (1 nd array): An array of binary values.\n",
        "  X2 (1 nd array): An array of binary values.\n",
        "  Output:\n",
        "  state_neuron(1D-list): An state of neuron 1 0r 0 for the particular inputs.\n",
        "  \"\"\"\n",
        "  assert len(X1) == len(X2)\n",
        "  state_neuron = []\n",
        "  for i in range(len(X1)):\n",
        "    if X1[i] + X2[i] >= T:\n",
        "      state_neuron.append(1)\n",
        "    else:\n",
        "      state_neuron.append(0)\n",
        "\n",
        "  return state_neuron"
      ],
      "metadata": {
        "id": "Fu-YDOe_8GJi"
      },
      "execution_count": null,
      "outputs": []
    },
    {
      "cell_type": "code",
      "source": [
        "# Example usage for MCP_Neurons_AND function\n",
        "X1 = [0, 0, 1, 1]\n",
        "X2 = [0, 1, 0, 1]\n",
        "T = 2  # Threshold value\n",
        "\n",
        "# Call the MCP_Neurons_AND function\n",
        "result = MCP_Neurons_AND(X1, X2, T)\n",
        "\n",
        "# Print the result\n",
        "print(f\"Output of AND gate for inputs {X1} and {X2} with threshold {T}: {result}\")\n"
      ],
      "metadata": {
        "colab": {
          "base_uri": "https://localhost:8080/"
        },
        "id": "e2-lKfat8ocN",
        "outputId": "b7acc6c7-2b92-488b-8a69-5e8a6970ccd9"
      },
      "execution_count": null,
      "outputs": [
        {
          "output_type": "stream",
          "name": "stdout",
          "text": [
            "Output of AND gate for inputs [0, 0, 1, 1] and [0, 1, 0, 1] with threshold 2: [0, 0, 0, 1]\n"
          ]
        }
      ]
    },
    {
      "cell_type": "code",
      "source": [
        "def MCP_Neurons_OR(X1, X2, T):\n",
        "    \"\"\"\n",
        "    This function implements basic OR operations with MCP Neuron for two inputs.\n",
        "    Arguments:\n",
        "    Inputs:\n",
        "    X1 (1D array): An array of binary values.\n",
        "    X2 (1D array): An array of binary values.\n",
        "    Output:\n",
        "    state_neuron (1D list): The state of the neuron (1 or 0) for the particular inputs.\n",
        "    \"\"\"\n",
        "    assert len(X1) == len(X2)\n",
        "    state_neuron = []\n",
        "    for i in range(len(X1)):\n",
        "      if X1[i] + X2[i] >= T:\n",
        "        state_neuron.append(1)\n",
        "      else:\n",
        "        state_neuron.append(0)\n",
        "\n",
        "    return state_neuron\n"
      ],
      "metadata": {
        "id": "7xaMXlLT9FHC"
      },
      "execution_count": null,
      "outputs": []
    },
    {
      "cell_type": "code",
      "source": [
        "# Example usage for MCP_Neurons_OR function\n",
        "X1 = [0, 0, 1, 1]\n",
        "X2 = [0, 1, 0, 1]\n",
        "T = 1  # Threshold value for OR gate\n",
        "\n",
        "# Call the MCP_Neurons_OR function\n",
        "result_or = MCP_Neurons_OR(X1, X2, T)\n",
        "\n",
        "# Print the result\n",
        "print(f\"Output of OR gate for inputs {X1} and {X2} with threshold {T}: {result_or}\")\n"
      ],
      "metadata": {
        "colab": {
          "base_uri": "https://localhost:8080/"
        },
        "id": "6H-YOy268_Jo",
        "outputId": "e5648b35-e40e-431a-c526-ebc61cd8f44a"
      },
      "execution_count": null,
      "outputs": [
        {
          "output_type": "stream",
          "name": "stdout",
          "text": [
            "Output of OR gate for inputs [0, 0, 1, 1] and [0, 1, 0, 1] with threshold 1: [0, 1, 1, 1]\n"
          ]
        }
      ]
    },
    {
      "cell_type": "markdown",
      "source": [
        "# Implementation for 0 Vs. 1 Classification."
      ],
      "metadata": {
        "id": "Apa9bfLIFJHe"
      }
    },
    {
      "cell_type": "markdown",
      "source": [
        "## Step 1: Load the Dataset"
      ],
      "metadata": {
        "id": "iom83mGLFP_1"
      }
    },
    {
      "cell_type": "code",
      "source": [
        "from google.colab import drive\n",
        "drive.mount('/content/drive')"
      ],
      "metadata": {
        "colab": {
          "base_uri": "https://localhost:8080/"
        },
        "id": "GpPrn1DiGxEo",
        "outputId": "e586b70a-e7cf-4e4f-a79d-e809c0b4db69"
      },
      "execution_count": 1,
      "outputs": [
        {
          "output_type": "stream",
          "name": "stdout",
          "text": [
            "Mounted at /content/drive\n"
          ]
        }
      ]
    },
    {
      "cell_type": "code",
      "source": [
        "import pandas as pd\n",
        "import numpy as np\n",
        "import matplotlib.pyplot as plt\n",
        "\n",
        "\n",
        "# Load the dataset\n",
        "df_0_1 = pd.read_csv(\"mnist_0_and_1.csv\")  # Add the correct file path if necessary\n",
        "\n",
        "# Extract features and labels\n",
        "X = df_0_1.drop(columns=[\"label\"]).values  # 784 pixels\n",
        "y = df_0_1[\"label\"].values  # Labels (0 or 1)\n",
        "\n",
        "# Check the shape of the features and labels\n",
        "print(\"Feature matrix shape:\", X.shape)\n",
        "print(\"Label vector shape:\", y.shape)\n"
      ],
      "metadata": {
        "colab": {
          "base_uri": "https://localhost:8080/"
        },
        "id": "7rkW58ct9IYq",
        "outputId": "c5b859b0-daaf-44e8-bd62-cea82956694c"
      },
      "execution_count": 3,
      "outputs": [
        {
          "output_type": "stream",
          "name": "stdout",
          "text": [
            "Feature matrix shape: (3472, 784)\n",
            "Label vector shape: (3472,)\n"
          ]
        }
      ]
    },
    {
      "cell_type": "markdown",
      "source": [
        "What does the shape of X represent?"
      ],
      "metadata": {
        "id": "8v5stdxTXhQu"
      }
    },
    {
      "cell_type": "markdown",
      "source": [
        "Ans: X represnets the pixels of the images"
      ],
      "metadata": {
        "id": "9vIuKS62Xi_G"
      }
    },
    {
      "cell_type": "markdown",
      "source": [
        "What does the shape of Y represent?"
      ],
      "metadata": {
        "id": "zEoJtwS3XqrW"
      }
    },
    {
      "cell_type": "markdown",
      "source": [
        "Ans: Y reperents the class label of the image"
      ],
      "metadata": {
        "id": "rv2v0nSBXsiO"
      }
    },
    {
      "cell_type": "markdown",
      "source": [
        "### Viewing the Dataset."
      ],
      "metadata": {
        "id": "jlq0EY2jHheD"
      }
    },
    {
      "cell_type": "code",
      "source": [
        "# Separate images for label 0 and label 1\n",
        "images_0 = X[y == 0]  # Get all images with label 0\n",
        "images_1 = X[y == 1]  # Get all images with label 1\n",
        "\n",
        "fig, axes = plt.subplots(2, 5, figsize=(10, 5))\n",
        "\n",
        "# Check if the arrays have the required amount of data\n",
        "if len(images_0) < 5 or len(images_1) < 5:\n",
        "    print(\"Error: Not enough images in images_0 or images_1 to plot 5 images.\")\n",
        "else:\n",
        "    for i in range(5):\n",
        "        # Plot digit 0\n",
        "        axes[0, i].imshow(images_0[i].reshape(28, 28), cmap=\"gray\")\n",
        "        axes[0, i].set_title(\"Label: 0\")\n",
        "        axes[0, i].axis(\"off\")\n",
        "        # Plot digit 1\n",
        "        axes[1, i].imshow(images_1[i].reshape(28, 28), cmap=\"gray\")\n",
        "        axes[1, i].set_title(\"Label: 1\")\n",
        "        axes[1, i].axis(\"off\")\n",
        "    plt.suptitle(\"First 5 Images of 0 and 1 from MNIST Subset\")\n",
        "    plt.show()"
      ],
      "metadata": {
        "colab": {
          "base_uri": "https://localhost:8080/",
          "height": 451
        },
        "id": "XKY2qjhCHAZ7",
        "outputId": "e915443b-172d-46cf-a413-13efd970530e"
      },
      "execution_count": 4,
      "outputs": [
        {
          "output_type": "display_data",
          "data": {
            "text/plain": [
              "<Figure size 1000x500 with 10 Axes>"
            ],
            "image/png": "[encoded data removed]"
          },
          "metadata": {}
        }
      ]
    },
    {
      "cell_type": "markdown",
      "source": [
        "## Step - 2 - Initializing the Weights:"
      ],
      "metadata": {
        "id": "qyM34tbHIqGi"
      }
    },
    {
      "cell_type": "code",
      "source": [
        "# Initialize weights and bias\n",
        "weights = np.zeros(X.shape[1])  # 784 weights (one for each pixel)\n",
        "bias = 0\n",
        "learning_rate = 0.1\n",
        "epochs = 100"
      ],
      "metadata": {
        "id": "SMsXaZ38HfBI"
      },
      "execution_count": 5,
      "outputs": []
    },
    {
      "cell_type": "markdown",
      "source": [
        "## Step - 3 - Make a Decision function:"
      ],
      "metadata": {
        "id": "EvraDxaeRVeo"
      }
    },
    {
      "cell_type": "code",
      "source": [
        "import numpy as np\n",
        "\n",
        "def decision_function(X, weights, bias):\n",
        "    \"\"\"\n",
        "    Compute the predicted labels for the input data.\n",
        "\n",
        "    Parameters:\n",
        "    - X: Features (input data) as a numpy array of shape (n_samples, n_features)\n",
        "    - weights: Updated weights after training\n",
        "    - bias: Updated bias after training\n",
        "\n",
        "    Returns:\n",
        "    - y_pred_all: The predicted labels for the input data\n",
        "    \"\"\"\n",
        "    predictions = np.dot(X, weights) + bias\n",
        "    y_pred_all = np.where(predictions >= 0, 1, 0)\n",
        "    return y_pred_all"
      ],
      "metadata": {
        "id": "6uVj75txLWQi"
      },
      "execution_count": 6,
      "outputs": []
    },
    {
      "cell_type": "markdown",
      "source": [
        "## Step - 3 - Implement the Perceptron Learning Algorithm"
      ],
      "metadata": {
        "id": "AVZNGyRdI4I4"
      }
    },
    {
      "cell_type": "code",
      "source": [
        "def train_perceptron(X, y, weights, bias, learning_rate=0.1, epochs=100):\n",
        "    \"\"\"\n",
        "    Train the perceptron using the Perceptron Learning Algorithm.\n",
        "\n",
        "    Parameters:\n",
        "    - X: Features (input data) as a numpy array of shape (n_samples, n_features)\n",
        "    - y: Labels (true output) as a numpy array of shape (n_samples,)\n",
        "    - weights: Initial weights as a numpy array of shape (n_features,)\n",
        "    - bias: Initial bias value (scalar)\n",
        "    - learning_rate: Learning rate for weight updates (default is 0.1)\n",
        "    - epochs: Number of iterations to train the model (default is 100)\n",
        "\n",
        "    Returns:\n",
        "    - weights: Updated weights after training\n",
        "    - bias: Updated bias after training\n",
        "    - accuracy: Total correct prediction.\n",
        "    \"\"\"\n",
        "    # Step 3: Perceptron Learning Algorithm\n",
        "    n_samples = X.shape[0]\n",
        "\n",
        "    for epoch in range(epochs):\n",
        "        correct_predictions = 0\n",
        "        for i in range(n_samples):\n",
        "            linear_output = np.dot(X[i], weights) + bias\n",
        "            y_pred = 1 if linear_output >= 0 else 0\n",
        "            if y_pred != y[i]:\n",
        "                update = learning_rate * (y[i] - y_pred)\n",
        "                weights += update * X[i]\n",
        "                bias += update\n",
        "            else:\n",
        "                correct_predictions += 1\n",
        "        accuracy = correct_predictions / n_samples\n",
        "\n",
        "        if epoch % 10 == 0 or epoch == epochs - 1:\n",
        "            print(f\"Epoch {epoch + 1}/{epochs} - Accuracy: {accuracy:.4f}\")\n",
        "\n",
        "\n",
        "    return weights, bias, accuracy"
      ],
      "metadata": {
        "id": "Dg1ocrycJWpA"
      },
      "execution_count": 7,
      "outputs": []
    },
    {
      "cell_type": "markdown",
      "source": [
        "## Training the Perceptron"
      ],
      "metadata": {
        "id": "Va6AGI6iMAG9"
      }
    },
    {
      "cell_type": "code",
      "source": [
        "# After training the model with the perceptron_learning_algorithm\n",
        "weights, bias, accuracy = train_perceptron(X, y, weights, bias)\n",
        "\n",
        "# Evaluate the model using the new function\n",
        "print(\"The Final Accuracy is: \", accuracy)"
      ],
      "metadata": {
        "colab": {
          "base_uri": "https://localhost:8080/"
        },
        "id": "cn8XBYuZLswI",
        "outputId": "b8307138-1c4b-4386-88bc-c7e0d67c2cac"
      },
      "execution_count": 8,
      "outputs": [
        {
          "output_type": "stream",
          "name": "stdout",
          "text": [
            "Epoch 1/100 - Accuracy: 0.9942\n",
            "Epoch 11/100 - Accuracy: 1.0000\n",
            "Epoch 21/100 - Accuracy: 1.0000\n",
            "Epoch 31/100 - Accuracy: 1.0000\n",
            "Epoch 41/100 - Accuracy: 1.0000\n",
            "Epoch 51/100 - Accuracy: 1.0000\n",
            "Epoch 61/100 - Accuracy: 1.0000\n",
            "Epoch 71/100 - Accuracy: 1.0000\n",
            "Epoch 81/100 - Accuracy: 1.0000\n",
            "Epoch 91/100 - Accuracy: 1.0000\n",
            "Epoch 100/100 - Accuracy: 1.0000\n",
            "The Final Accuracy is:  1.0\n"
          ]
        }
      ]
    },
    {
      "cell_type": "markdown",
      "source": [
        "## Step 5: Visualize Misclassified Images"
      ],
      "metadata": {
        "id": "-SLq1jbSMKPm"
      }
    },
    {
      "cell_type": "code",
      "source": [
        "# Get predictions for all data points\n",
        "predictions = np.dot(X, weights) + bias\n",
        "y_pred = np.where(predictions >= 0, 1, 0)\n",
        "\n",
        "# Calculate final accuracy\n",
        "final_accuracy = np.mean(y_pred == y)\n",
        "print(f\"Final Accuracy: {final_accuracy:.4f}\")\n",
        "\n",
        "# Step 5: Visualize Misclassified Images\n",
        "misclassified_idx = np.where(y_pred != y)[0]\n",
        "if len(misclassified_idx) > 0:\n",
        "    fig, axes = plt.subplots(2, 5, figsize=(10, 5))\n",
        "    for ax, idx in zip(axes.flat, misclassified_idx[:10]):  # Show 10 misclassified images\n",
        "        ax.imshow(X[idx].reshape(28, 28), cmap=\"gray\")\n",
        "        ax.set_title(f\"Pred: {y_pred[idx]}, True: {y[idx]}\")\n",
        "        ax.axis(\"off\")\n",
        "    plt.suptitle(\"Misclassified Images\")\n",
        "    plt.show()\n",
        "else:\n",
        "    print(\"All images were correctly classified!\")"
      ],
      "metadata": {
        "colab": {
          "base_uri": "https://localhost:8080/"
        },
        "id": "KAMz1RPGMN_A",
        "outputId": "5795b25f-9a63-4815-81bb-f541c046df6f"
      },
      "execution_count": null,
      "outputs": [
        {
          "output_type": "stream",
          "name": "stdout",
          "text": [
            "Final Accuracy: 1.0000\n",
            "All images were correctly classified!\n"
          ]
        }
      ]
    },
    {
      "cell_type": "markdown",
      "source": [
        "What does misclassified idx store, and how is it used in this code?"
      ],
      "metadata": {
        "id": "gIuv9Q6qZcs2"
      }
    },
    {
      "cell_type": "markdown",
      "source": [
        "Ans: misclassified idx stores the indices of misclassified samples in the validation set"
      ],
      "metadata": {
        "id": "QoiSCz1FZenW"
      }
    },
    {
      "cell_type": "markdown",
      "source": [
        "How do you interpret the result if the output is ”All images were correctly classified!”?"
      ],
      "metadata": {
        "id": "Ol74AhuYZ5yO"
      }
    },
    {
      "cell_type": "markdown",
      "source": [
        "Ans: we can determine all the images are correctly classified when the misclassified idx stoe is empty"
      ],
      "metadata": {
        "id": "B18libLQZ6Xv"
      }
    },
    {
      "cell_type": "markdown",
      "source": [
        "For the non binary data the classification is  wrong."
      ],
      "metadata": {
        "id": "3vGMqq6ba3m_"
      }
    },
    {
      "cell_type": "code",
      "source": [
        "import numpy as np\n",
        "import matplotlib.pyplot as plt\n",
        "import pandas as pd\n",
        "\n",
        "# Load data\n",
        "df1 = pd.read_csv(\"mnist_3_and_5.csv\")\n",
        "\n",
        "# Extract features and labels\n",
        "X1 = df1.drop(columns=[\"label\"]).values  # 784 pixels per image\n",
        "y1 = df1[\"label\"].values\n",
        "\n",
        "# Convert labels to binary (3 -> 0, 5 -> 1)\n",
        "y1 = np.where(y1 == 5, 1, 0)\n",
        "\n",
        "# Initialize perceptron parameters\n",
        "weights = np.zeros(X1.shape[1])\n",
        "bias = 0\n",
        "learning_rate = 0.1\n",
        "epochs = 100\n",
        "\n",
        "def train_perceptron(X, y, weights, bias, learning_rate=0.1, epochs=100):\n",
        "    \"\"\"\n",
        "    Train a perceptron using the Perceptron Learning Algorithm.\n",
        "\n",
        "    Parameters:\n",
        "    - X: Input features (n_samples, n_features)\n",
        "    - y: Target labels (binary: 0 or 1)\n",
        "    - weights: Initial weights (n_features,)\n",
        "    - bias: Initial bias value (scalar)\n",
        "    - learning_rate: Learning rate\n",
        "    - epochs: Number of iterations\n",
        "\n",
        "    Returns:\n",
        "    - Updated weights, bias, and accuracy\n",
        "    \"\"\"\n",
        "    n_samples = X.shape[0]\n",
        "\n",
        "    for epoch in range(epochs):\n",
        "        correct_predictions = 0\n",
        "\n",
        "        for i in range(n_samples):\n",
        "            # Compute the output using step function\n",
        "            linear_output = np.dot(X[i], weights) + bias\n",
        "            y_pred = 1 if linear_output >= 0 else 0\n",
        "\n",
        "            # Update weights if misclassified\n",
        "            if y_pred != y[i]:\n",
        "                update = learning_rate * (y[i] - y_pred)\n",
        "                weights += update * X[i]\n",
        "                bias += update\n",
        "            else:\n",
        "                correct_predictions += 1\n",
        "\n",
        "        # Calculate accuracy\n",
        "        accuracy = correct_predictions / n_samples\n",
        "        if epoch % 10 == 0 or epoch == epochs - 1:\n",
        "            print(f\"Epoch {epoch + 1}/{epochs} - Accuracy: {accuracy:.4f}\")\n",
        "\n",
        "    return weights, bias, accuracy\n",
        "\n",
        "# Train the perceptron\n",
        "weights, bias, accuracy = train_perceptron(X1, y1, weights, bias, learning_rate, epochs)\n",
        "\n",
        "print(\"The Final Accuracy is:\", accuracy)\n",
        "\n",
        "# Get predictions using the perceptron decision function\n",
        "predictions = np.dot(X1, weights) + bias\n",
        "y_pred = np.where(predictions >= 0, 1, 0)\n",
        "\n",
        "# Calculate final accuracy\n",
        "final_accuracy = np.mean(y_pred == y1)\n",
        "print(f\"Final Accuracy: {final_accuracy:.4f}\")\n",
        "\n",
        "# Step 5: Visualize Misclassified Images with Labels\n",
        "misclassified_idx = np.where(y_pred != y1)[0]\n",
        "\n",
        "if len(misclassified_idx) > 0:\n",
        "    fig, axes = plt.subplots(2, 5, figsize=(10, 5))\n",
        "    for ax, idx in zip(axes.flat, misclassified_idx[:10]):  # Show 10 misclassified images\n",
        "        ax.imshow(X1[idx].reshape(28, 28), cmap=\"gray\")\n",
        "        # Format the title as \"Predicted: 3, True: 5\"\n",
        "        ax.set_title(f\"Predicted: {y_pred[idx]}, True: {y1[idx]}\")\n",
        "        ax.axis(\"off\")\n",
        "    plt.suptitle(\"Misclassified Images\")\n",
        "    plt.show()\n",
        "else:\n",
        "    print(\"All images were correctly classified!\")\n"
      ],
      "metadata": {
        "colab": {
          "base_uri": "https://localhost:8080/",
          "height": 677
        },
        "id": "QERJsBRHa6mO",
        "outputId": "66be8b05-3b67-4dd2-cbd0-d224e9c7b0ce"
      },
      "execution_count": 10,
      "outputs": [
        {
          "output_type": "stream",
          "name": "stdout",
          "text": [
            "Epoch 1/100 - Accuracy: 0.9015\n",
            "Epoch 11/100 - Accuracy: 0.5363\n",
            "Epoch 21/100 - Accuracy: 0.5363\n",
            "Epoch 31/100 - Accuracy: 0.5363\n",
            "Epoch 41/100 - Accuracy: 0.5363\n",
            "Epoch 51/100 - Accuracy: 0.5363\n",
            "Epoch 61/100 - Accuracy: 0.5363\n",
            "Epoch 71/100 - Accuracy: 0.5363\n",
            "Epoch 81/100 - Accuracy: 0.5363\n",
            "Epoch 91/100 - Accuracy: 0.5363\n",
            "Epoch 100/100 - Accuracy: 0.5363\n",
            "The Final Accuracy is: 0.5362608117099135\n",
            "Final Accuracy: 0.5363\n"
          ]
        },
        {
          "output_type": "display_data",
          "data": {
            "text/plain": [
              "<Figure size 1000x500 with 10 Axes>"
            ],
            "image/png": "[encoded data removed]"
          },
          "metadata": {}
        }
      ]
    }
  ]
}